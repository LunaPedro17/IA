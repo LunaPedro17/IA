{
  "nbformat": 4,
  "nbformat_minor": 0,
  "metadata": {
    "colab": {
      "provenance": [],
      "authorship_tag": "ABX9TyMpiHAbKcqoo+4pZ4rOw2Bm",
      "include_colab_link": true
    },
    "kernelspec": {
      "name": "python3",
      "display_name": "Python 3"
    },
    "language_info": {
      "name": "python"
    }
  },
  "cells": [
    {
      "cell_type": "markdown",
      "metadata": {
        "id": "view-in-github",
        "colab_type": "text"
      },
      "source": [
        "<a href=\"https://colab.research.google.com/github/LunaPedro17/IA/blob/main/Pedictor_de_pesos.ipynb\" target=\"_parent\"><img src=\"https://colab.research.google.com/assets/colab-badge.svg\" alt=\"Open In Colab\"/></a>"
      ]
    },
    {
      "cell_type": "code",
      "execution_count": 1,
      "metadata": {
        "id": "JRqNsX7_iXlC"
      },
      "outputs": [],
      "source": [
        "import pandas as pd\n",
        "datos=pd.read_csv(\"alturas.csv\")"
      ]
    },
    {
      "cell_type": "code",
      "source": [
        "datos.info()"
      ],
      "metadata": {
        "colab": {
          "base_uri": "https://localhost:8080/"
        },
        "id": "4wjVrZnoii1q",
        "outputId": "b92b8e7d-388c-4213-ef6c-2f76d7824417"
      },
      "execution_count": 2,
      "outputs": [
        {
          "output_type": "stream",
          "name": "stdout",
          "text": [
            "<class 'pandas.core.frame.DataFrame'>\n",
            "RangeIndex: 10 entries, 0 to 9\n",
            "Data columns (total 2 columns):\n",
            " #   Column  Non-Null Count  Dtype  \n",
            "---  ------  --------------  -----  \n",
            " 0   altura  10 non-null     float64\n",
            " 1   peso    10 non-null     int64  \n",
            "dtypes: float64(1), int64(1)\n",
            "memory usage: 292.0 bytes\n"
          ]
        }
      ]
    },
    {
      "cell_type": "code",
      "source": [
        "import seaborn as sb\n",
        "sb.scatterplot(x=\"altura\", y=\"peso\",data=datos,hue=\"peso\", palette=\"coolwarm\")"
      ],
      "metadata": {
        "colab": {
          "base_uri": "https://localhost:8080/",
          "height": 466
        },
        "id": "nTJZz6wRijfx",
        "outputId": "c5f1a9ab-3523-4a7f-ecc8-e9309022cccf"
      },
      "execution_count": 3,
      "outputs": [
        {
          "output_type": "execute_result",
          "data": {
            "text/plain": [
              "<Axes: xlabel='altura', ylabel='peso'>"
            ]
          },
          "metadata": {},
          "execution_count": 3
        },
        {
          "output_type": "display_data",
          "data": {
            "text/plain": [
              "<Figure size 640x480 with 1 Axes>"
            ],
            "image/png": "[encoded data removed]"
          },
          "metadata": {}
        }
      ]
    },
    {
      "cell_type": "code",
      "source": [
        "X =datos[\"altura\"]\n",
        "Y =datos[\"peso\"]\n",
        "#tranformar datos\n",
        "X_procesada=X.values.reshape(-1,1)\n",
        "Y_procesada=Y.values.reshape(-1,1)\n",
        "from sklearn.linear_model import LinearRegression\n",
        "modelo=LinearRegression()\n",
        "modelo.fit(X_procesada,Y_procesada)\n",
        "altura=float(input(\"Ingresa tu altura: \"))\n",
        "prediccion=modelo.predict([[altura]])\n",
        "print(f\"el peso correspondiente a la atura {altura} cm es: {prediccion} kg\")"
      ],
      "metadata": {
        "colab": {
          "base_uri": "https://localhost:8080/"
        },
        "id": "jNtAS9f-ilOQ",
        "outputId": "83c63012-97c3-402e-b594-f425b4c22eab"
      },
      "execution_count": 6,
      "outputs": [
        {
          "output_type": "stream",
          "name": "stdout",
          "text": [
            "Ingresa tu altura: 1.70\n",
            "el peso correspondiente a la atura 1.7 cm es: [[66.95454545]] kg\n"
          ]
        }
      ]
    },
    {
      "cell_type": "code",
      "source": [
        "modelo.score(X_procesada,Y_procesada)"
      ],
      "metadata": {
        "colab": {
          "base_uri": "https://localhost:8080/"
        },
        "id": "Xr2eNquzi-mo",
        "outputId": "aaaa5bc5-d491-4501-b547-7e63743d5b5c"
      },
      "execution_count": 7,
      "outputs": [
        {
          "output_type": "execute_result",
          "data": {
            "text/plain": [
              "0.9954018801785175"
            ]
          },
          "metadata": {},
          "execution_count": 7
        }
      ]
    }
  ]
}